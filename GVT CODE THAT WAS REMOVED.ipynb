{
 "cells": [
  {
   "cell_type": "code",
   "execution_count": null,
   "metadata": {},
   "outputs": [],
   "source": [
    "## LOOP CODE FOR GVT"
   ]
  },
  {
   "cell_type": "code",
   "execution_count": null,
   "metadata": {},
   "outputs": [],
   "source": [
    "##                                                                                                                    GOOD\n",
    "\n",
    "name = []\n",
    "pop = []\n",
    "gvt = []\n",
    "gdpv = []\n",
    "gdpy = []\n",
    "gdpr = []\n",
    "gdppc = []\n",
    "gdppcMATH = []\n",
    "gdppy = []\n",
    "gdppr = []\n",
    "\n",
    "for country in search_country: \n",
    "    try:\n",
    "        access_country = cia_facts['countries'][country.lower()]\n",
    "        name.append(country)\n",
    "\n",
    "        population = access_country['data']['people']['population']['total']\n",
    "        pop.append(population)\n",
    "\n",
    "        form_of_government = access_country['data']['government']['government_type']\n",
    "\n",
    "        if country == 'Malaysia':                                                   # delete if breaks   **\n",
    "            gvt.append('federal parliamentary constitutional monarchy')             # delete if breaks   **\n",
    "        elif 'Republic of Cyprus' in form_of_government:                            # if deleting above, chg to if\n",
    "            gvt.append('presidential republic')                                     \n",
    "        elif '(' in form_of_government:                                             \n",
    "            break_one = form_of_government.split(sep = '(', maxsplit=2)             \n",
    "            gvt.append(break_one[0])                                                \n",
    "        elif ';' in form_of_government:                                             \n",
    "            break_one = form_of_government.split(sep = ';', maxsplit=2)             \n",
    "            gvt.append(break_one[0])                                                \n",
    "        else:                                                                       \n",
    "            gvt.append(form_of_government)                                          \n",
    "\n",
    "        gdp_value = (int(access_country['data']['economy']['gdp']['purchasing_power_parity']['annual_values'][0]['value'])/\n",
    "                    1000000000)\n",
    "        gdpv.append(gdp_value)\n",
    "\n",
    "        gdp_year = (access_country['data']['economy']['gdp']['purchasing_power_parity']['annual_values'][0]['date'])\n",
    "        gdpy.append(gdp_year)      \n",
    "\n",
    "        gdp_rank = access_country['data']['economy']['gdp']['purchasing_power_parity']['global_rank']    \n",
    "        gdpr.append(gdp_rank)\n",
    "\n",
    "        gdp_per_cap_round = (int(access_country['data']['economy']['gdp']['per_capita_purchasing_power_parity']\n",
    "                                               ['annual_values'][0]['value']))\n",
    "        gdppc.append(gdp_per_cap_round)\n",
    "\n",
    "        gdp_per_cap_MATH = (gdp_value*1000000000)/population\n",
    "        gdppcMATH.append(gdp_per_cap_MATH)        \n",
    "\n",
    "        gdp_per_cap_year = (access_country['data']['economy']['gdp']['per_capita_purchasing_power_parity']\n",
    "                                          ['annual_values'][0]['date'])\n",
    "        gdppy.append(gdp_per_cap_year)\n",
    "\n",
    "        gdp_per_cap_rank = access_country['data']['economy']['gdp']['per_capita_purchasing_power_parity']['global_rank']    \n",
    "        gdppr.append(gdp_per_cap_rank)\n",
    "        \n",
    "    except KeyError:\n",
    "        percapgdp = (gdp_value*1000000000)/population\n",
    "        gdppc.append(percapgdp)\n",
    "        gdppcMATH.append(percapgdp)        \n",
    "        gdppy.append(gdp_year)\n",
    "        gdppr.append('200')"
   ]
  }
 ],
 "metadata": {
  "kernelspec": {
   "display_name": "Python 3",
   "language": "python",
   "name": "python3"
  },
  "language_info": {
   "codemirror_mode": {
    "name": "ipython",
    "version": 3
   },
   "file_extension": ".py",
   "mimetype": "text/x-python",
   "name": "python",
   "nbconvert_exporter": "python",
   "pygments_lexer": "ipython3",
   "version": "3.7.3"
  },
  "varInspector": {
   "cols": {
    "lenName": 16,
    "lenType": 16,
    "lenVar": 40
   },
   "kernels_config": {
    "python": {
     "delete_cmd_postfix": "",
     "delete_cmd_prefix": "del ",
     "library": "var_list.py",
     "varRefreshCmd": "print(var_dic_list())"
    },
    "r": {
     "delete_cmd_postfix": ") ",
     "delete_cmd_prefix": "rm(",
     "library": "var_list.r",
     "varRefreshCmd": "cat(var_dic_list()) "
    }
   },
   "types_to_exclude": [
    "module",
    "function",
    "builtin_function_or_method",
    "instance",
    "_Feature"
   ],
   "window_display": false
  }
 },
 "nbformat": 4,
 "nbformat_minor": 2
}
